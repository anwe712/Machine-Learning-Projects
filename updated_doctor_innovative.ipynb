{
  "nbformat": 4,
  "nbformat_minor": 0,
  "metadata": {
    "colab": {
      "provenance": []
    },
    "kernelspec": {
      "name": "python3",
      "display_name": "Python 3"
    },
    "language_info": {
      "name": "python"
    }
  },
  "cells": [
    {
      "cell_type": "code",
      "source": [
        "# Load Data: Load the dataset into a DataFrame using pandas.\n",
        "\n",
        "# Separate Target and Features:\n",
        "\n",
        "# Target: Diagnosis / Condition (the label you want to predict).\n",
        "# Features: Everything else.\n",
        "# Encode Categorical Features: Use one-hot encoding to convert categorical columns (like Gender, Symptoms, etc.) into numerical values.\n",
        "\n",
        "# Scale Numerical Features: Standardize the numerical features (like Age, Duration, etc.) to make them easier for the model to process.\n",
        "\n",
        "# Split the Data: Divide the dataset into training data (80%) and test data (20%).\n",
        "\n",
        "# Train the Model: Use a logistic regression model to learn from the training data.\n",
        "\n",
        "# Make Predictions: Use the trained model to predict the target on the test data.\n",
        "\n",
        "# Evaluate the Model: Check the accuracy and classification metrics (like precision and recall) to see how well the model performs."
      ],
      "metadata": {
        "id": "HTZd637M-Kfu"
      },
      "execution_count": null,
      "outputs": []
    },
    {
      "cell_type": "code",
      "execution_count": null,
      "metadata": {
        "id": "AOOnKzmEWpCZ"
      },
      "outputs": [],
      "source": [
        "import pandas as pd\n",
        "import numpy as np\n",
        "import random\n",
        "\n",
        "# Set random seed for reproducibility\n",
        "np.random.seed(42)\n",
        "\n",
        "# Define the number of samples you want\n",
        "n_samples = 1000\n",
        "\n",
        "# 1. User ID (just a sequence of numbers)\n",
        "user_id = np.arange(1, n_samples+1)\n",
        "\n",
        "# 2. Age (random ages between 18 and 70)\n",
        "age = np.random.randint(18, 70, size=n_samples)\n",
        "\n",
        "# 3. Gender (random selection between Male, Female, Non-binary, etc.)\n",
        "gender = np.random.choice(['Male', 'Female', 'Non-binary', 'Other'], size=n_samples)\n",
        "\n",
        "# 4. Symptoms (random selection from a list of common symptoms)\n",
        "symptoms = np.random.choice([\n",
        "    'feeling anxious', 'trouble sleeping', 'feeling sad', 'lack of concentration',\n",
        "    'feeling overwhelmed', 'panic attacks', 'loss of interest in activities',\n",
        "    'feeling irritable', 'excessive worry'], size=n_samples)\n",
        "\n",
        "# 5. Duration (randomly assign how long the symptoms have been present, in weeks)\n",
        "duration = np.random.randint(1, 52, size=n_samples)\n",
        "\n",
        "# 6. Previous Diagnosis (random selection from possible conditions)\n",
        "previous_diagnosis = np.random.choice([\n",
        "    'None', 'Depression', 'Anxiety', 'Bipolar Disorder', 'PTSD', 'OCD'], size=n_samples)\n",
        "\n",
        "# 7. Therapy History (whether the user has had therapy before, Yes/No)\n",
        "therapy_history = np.random.choice(['Yes', 'No'], size=n_samples)\n",
        "\n",
        "# 8. Medication (whether the user is on medication, Yes/No)\n",
        "medication = np.random.choice(['Yes', 'No'], size=n_samples)\n",
        "\n",
        "# 9. Diagnosis / Condition (predicted condition based on symptoms)\n",
        "diagnosis_condition = np.random.choice([\n",
        "    'Depression', 'Anxiety', 'Stress', 'Panic Disorder', 'Burnout'], size=n_samples)\n",
        "\n",
        "# 10. Suggested Therapy (types of therapy)\n",
        "suggested_therapy = np.random.choice([\n",
        "    'Cognitive Behavioral Therapy', 'Mindfulness-Based Therapy',\n",
        "    'Psychotherapy', 'Support Groups', 'No Therapy Needed'], size=n_samples)\n",
        "\n",
        "# 11. Self-care Advice (random advice options)\n",
        "self_care_advice = np.random.choice([\n",
        "    'Exercise', 'Journaling', 'Meditation', 'Breathing Exercises',\n",
        "    'Talk to a Friend', 'Take Breaks'], size=n_samples)\n",
        "\n",
        "# 12. Urgency Level (random levels of urgency)\n",
        "urgency_level = np.random.choice(['Low', 'Moderate', 'High', 'Critical'], size=n_samples)\n",
        "\n",
        "# 13. Mood (optional, scale from 1 to 10)\n",
        "mood = np.random.randint(1, 11, size=n_samples)\n",
        "\n",
        "# 14. Stress Level (optional, scale from 1 to 10)\n",
        "stress_level = np.random.randint(1, 11, size=n_samples)\n",
        "\n",
        "# Combine into a DataFrame\n",
        "data = pd.DataFrame({\n",
        "    'User ID': user_id,\n",
        "    'Age': age,\n",
        "    'Gender': gender,\n",
        "    'Symptoms': symptoms,\n",
        "    'Duration (weeks)': duration,\n",
        "    'Previous Diagnosis': previous_diagnosis,\n",
        "    'Therapy History': therapy_history,\n",
        "    'Medication': medication,\n",
        "    'Diagnosis / Condition': diagnosis_condition,\n",
        "    'Suggested Therapy': suggested_therapy,\n",
        "    'Self-care Advice': self_care_advice,\n",
        "    'Urgency Level': urgency_level,\n",
        "    'Mood': mood,\n",
        "    'Stress Level': stress_level\n",
        "})\n",
        "\n",
        "# View the first 5 rows of the synthetic dataset\n",
        "# print(data.head())\n",
        "\n",
        "# Optionally, save to CSV\n",
        "data.to_csv('synthetic_mental_health_data.csv', index=False)\n"
      ]
    },
    {
      "cell_type": "code",
      "source": [
        "# Save the synthetic dataset to a CSV file\n",
        "data.to_csv('synthetic_mental_health_data.csv', index=False)\n"
      ],
      "metadata": {
        "id": "m82Wdj90Xexa"
      },
      "execution_count": null,
      "outputs": []
    },
    {
      "cell_type": "code",
      "source": [
        "import pandas as pd\n",
        "\n",
        "# Load the dataset from the CSV file\n",
        "data = pd.read_csv('synthetic_mental_health_data.csv')\n",
        "\n",
        "# View the first few rows of the dataset\n",
        "print(data.head())\n"
      ],
      "metadata": {
        "colab": {
          "base_uri": "https://localhost:8080/"
        },
        "id": "7jZA682VYnAQ",
        "outputId": "393001ed-652d-456a-b7e5-f145daffcb4b"
      },
      "execution_count": null,
      "outputs": [
        {
          "output_type": "stream",
          "name": "stdout",
          "text": [
            "   User ID  Age      Gender           Symptoms  Duration (weeks)  \\\n",
            "0        1   56  Non-binary    feeling anxious                21   \n",
            "1        2   69  Non-binary   trouble sleeping                42   \n",
            "2        3   46  Non-binary  feeling irritable                26   \n",
            "3        4   32       Other        feeling sad                44   \n",
            "4        5   60        Male        feeling sad                14   \n",
            "\n",
            "  Previous Diagnosis Therapy History Medication Diagnosis / Condition  \\\n",
            "0   Bipolar Disorder             Yes         No            Depression   \n",
            "1                NaN             Yes        Yes        Panic Disorder   \n",
            "2               PTSD             Yes        Yes                Stress   \n",
            "3         Depression              No        Yes               Anxiety   \n",
            "4               PTSD              No         No        Panic Disorder   \n",
            "\n",
            "              Suggested Therapy Self-care Advice Urgency Level  Mood  \\\n",
            "0  Cognitive Behavioral Therapy         Exercise           Low     8   \n",
            "1             No Therapy Needed      Take Breaks      Moderate     7   \n",
            "2  Cognitive Behavioral Therapy      Take Breaks          High     3   \n",
            "3                Support Groups       Journaling      Moderate     8   \n",
            "4     Mindfulness-Based Therapy      Take Breaks           Low     2   \n",
            "\n",
            "   Stress Level  \n",
            "0            10  \n",
            "1             2  \n",
            "2             2  \n",
            "3             4  \n",
            "4             9  \n"
          ]
        }
      ]
    },
    {
      "cell_type": "code",
      "source": [
        "#rename\n",
        "# Remove leading/trailing spaces from column names (if any)\n",
        "data.columns = data.columns.str.strip()\n",
        "\n",
        "# Check if \"Diagnosis / Condition\" column exists after stripping spaces\n",
        "print(data.columns)\n",
        "\n",
        "# Now proceed with your feature/target selection\n",
        "X = data.drop(['Diagnosis / Condition'], axis=1)  # Features\n",
        "y = data['Diagnosis / Condition']  # Target variable\n",
        "\n",
        "# Split the dataset into training and testing sets\n",
        "X_train, X_test, y_train, y_test = train_test_split(X, y, test_size=0.2, random_state=42)\n",
        "\n",
        "# Display the processed data\n",
        "print(X_train.head())\n",
        "print(y_train.head())"
      ],
      "metadata": {
        "colab": {
          "base_uri": "https://localhost:8080/"
        },
        "id": "6u2zsZkO66bF",
        "outputId": "aae896f4-f903-4700-b56e-ee0164cdc9c4"
      },
      "execution_count": null,
      "outputs": [
        {
          "output_type": "stream",
          "name": "stdout",
          "text": [
            "Index(['User ID', 'Age', 'Gender', 'Symptoms', 'Duration (weeks)',\n",
            "       'Previous Diagnosis', 'Therapy History', 'Medication',\n",
            "       'Diagnosis / Condition', 'Suggested Therapy', 'Self-care Advice',\n",
            "       'Urgency Level', 'Mood', 'Stress Level'],\n",
            "      dtype='object')\n",
            "     User ID  Age      Gender             Symptoms  Duration (weeks)  \\\n",
            "29        30   42       Other     trouble sleeping                24   \n",
            "535      536   22        Male          feeling sad                17   \n",
            "695      696   65       Other  feeling overwhelmed                22   \n",
            "557      558   29        Male    feeling irritable                35   \n",
            "836      837   54  Non-binary          feeling sad                 3   \n",
            "\n",
            "    Previous Diagnosis Therapy History Medication  \\\n",
            "29    Bipolar Disorder              No        Yes   \n",
            "535            Anxiety             Yes         No   \n",
            "695            Anxiety             Yes        Yes   \n",
            "557                OCD             Yes        Yes   \n",
            "836         Depression             Yes         No   \n",
            "\n",
            "                Suggested Therapy  Self-care Advice Urgency Level  Mood  \\\n",
            "29      Mindfulness-Based Therapy  Talk to a Friend      Critical    10   \n",
            "535                 Psychotherapy          Exercise      Critical     5   \n",
            "695             No Therapy Needed       Take Breaks      Moderate     5   \n",
            "557     Mindfulness-Based Therapy       Take Breaks      Moderate     4   \n",
            "836  Cognitive Behavioral Therapy       Take Breaks      Moderate     6   \n",
            "\n",
            "     Stress Level  \n",
            "29              2  \n",
            "535             4  \n",
            "695            10  \n",
            "557             3  \n",
            "836             5  \n",
            "29            Burnout\n",
            "535           Anxiety\n",
            "695           Anxiety\n",
            "557    Panic Disorder\n",
            "836        Depression\n",
            "Name: Diagnosis / Condition, dtype: object\n"
          ]
        }
      ]
    },
    {
      "cell_type": "code",
      "source": [
        "# Separate the target variable (Diagnosis / Condition)\n",
        "y = data['Diagnosis / Condition']\n",
        "\n",
        "# Drop the target variable from the DataFrame to create the features DataFrame\n",
        "X = data.drop(['Diagnosis / Condition'], axis=1)\n",
        "\n",
        "# View the shapes of X and y to confirm separation\n",
        "print(\"Features shape:\", X.shape)\n",
        "print(\"Target shape:\", y.shape)\n"
      ],
      "metadata": {
        "colab": {
          "base_uri": "https://localhost:8080/"
        },
        "id": "qRL3utgn6yC1",
        "outputId": "887c0841-b8b9-4296-c9ee-90a5d833ac58"
      },
      "execution_count": null,
      "outputs": [
        {
          "output_type": "stream",
          "name": "stdout",
          "text": [
            "Features shape: (1000, 13)\n",
            "Target shape: (1000,)\n"
          ]
        }
      ]
    },
    {
      "cell_type": "code",
      "source": [
        "# Specify the categorical columns to be encoded\n",
        "categorical_columns = ['Gender', 'Symptoms', 'Previous Diagnosis',\n",
        "                       'Therapy History', 'Medication',\n",
        "                       'Suggested Therapy', 'Self-care Advice',\n",
        "                       'Urgency Level']\n",
        "\n",
        "# Apply one-hot encoding to the categorical columns\n",
        "X_encoded = pd.get_dummies(X, columns=categorical_columns, drop_first=True)\n",
        "\n",
        "# View the first few rows of the encoded features\n",
        "print(X_encoded.head())\n"
      ],
      "metadata": {
        "colab": {
          "base_uri": "https://localhost:8080/"
        },
        "id": "hfMvQZTH7nUN",
        "outputId": "bef8f0d3-e85e-4dd3-be7c-a6e5e53a7dc7"
      },
      "execution_count": null,
      "outputs": [
        {
          "output_type": "stream",
          "name": "stdout",
          "text": [
            "   User ID  Age  Duration (weeks)  Mood  Stress Level  Gender_Male  \\\n",
            "0        1   56                21     8            10        False   \n",
            "1        2   69                42     7             2        False   \n",
            "2        3   46                26     3             2        False   \n",
            "3        4   32                44     8             4        False   \n",
            "4        5   60                14     2             9         True   \n",
            "\n",
            "   Gender_Non-binary  Gender_Other  Symptoms_feeling anxious  \\\n",
            "0               True         False                      True   \n",
            "1               True         False                     False   \n",
            "2               True         False                     False   \n",
            "3              False          True                     False   \n",
            "4              False         False                     False   \n",
            "\n",
            "   Symptoms_feeling irritable  ...  Suggested Therapy_Psychotherapy  \\\n",
            "0                       False  ...                            False   \n",
            "1                       False  ...                            False   \n",
            "2                        True  ...                            False   \n",
            "3                       False  ...                            False   \n",
            "4                       False  ...                            False   \n",
            "\n",
            "   Suggested Therapy_Support Groups  Self-care Advice_Exercise  \\\n",
            "0                             False                       True   \n",
            "1                             False                      False   \n",
            "2                             False                      False   \n",
            "3                              True                      False   \n",
            "4                             False                      False   \n",
            "\n",
            "   Self-care Advice_Journaling  Self-care Advice_Meditation  \\\n",
            "0                        False                        False   \n",
            "1                        False                        False   \n",
            "2                        False                        False   \n",
            "3                         True                        False   \n",
            "4                        False                        False   \n",
            "\n",
            "   Self-care Advice_Take Breaks  Self-care Advice_Talk to a Friend  \\\n",
            "0                         False                              False   \n",
            "1                          True                              False   \n",
            "2                          True                              False   \n",
            "3                         False                              False   \n",
            "4                          True                              False   \n",
            "\n",
            "   Urgency Level_High  Urgency Level_Low  Urgency Level_Moderate  \n",
            "0               False               True                   False  \n",
            "1               False              False                    True  \n",
            "2                True              False                   False  \n",
            "3               False              False                    True  \n",
            "4               False               True                   False  \n",
            "\n",
            "[5 rows x 34 columns]\n"
          ]
        }
      ]
    },
    {
      "cell_type": "code",
      "source": [
        "from sklearn.preprocessing import StandardScaler\n",
        "\n",
        "# Initialize the StandardScaler\n",
        "scaler = StandardScaler()\n",
        "\n",
        "# Specify the numerical columns to be scaled\n",
        "numerical_columns = ['Age', 'Duration (weeks)', 'Mood', 'Stress Level']\n",
        "\n",
        "# Fit the scaler on the numerical columns and transform them\n",
        "X_encoded[numerical_columns] = scaler.fit_transform(X_encoded[numerical_columns])\n",
        "\n",
        "# View the first few rows of the scaled features\n",
        "print(X_encoded.head())\n"
      ],
      "metadata": {
        "colab": {
          "base_uri": "https://localhost:8080/"
        },
        "id": "pgxpv8kI9SqE",
        "outputId": "c74b5d5f-54e5-4787-accf-def0817f1265"
      },
      "execution_count": null,
      "outputs": [
        {
          "output_type": "stream",
          "name": "stdout",
          "text": [
            "   User ID       Age  Duration (weeks)      Mood  Stress Level  Gender_Male  \\\n",
            "0        1  0.812959         -0.374661  0.855581      1.519688        False   \n",
            "1        2  1.680578          1.056123  0.518074     -1.275141        False   \n",
            "2        3  0.145560         -0.033998 -0.831955     -1.275141        False   \n",
            "3        4 -0.788799          1.192389  0.855581     -0.576434        False   \n",
            "4        5  1.079919         -0.851589 -1.169462      1.170335         True   \n",
            "\n",
            "   Gender_Non-binary  Gender_Other  Symptoms_feeling anxious  \\\n",
            "0               True         False                      True   \n",
            "1               True         False                     False   \n",
            "2               True         False                     False   \n",
            "3              False          True                     False   \n",
            "4              False         False                     False   \n",
            "\n",
            "   Symptoms_feeling irritable  ...  Suggested Therapy_Psychotherapy  \\\n",
            "0                       False  ...                            False   \n",
            "1                       False  ...                            False   \n",
            "2                        True  ...                            False   \n",
            "3                       False  ...                            False   \n",
            "4                       False  ...                            False   \n",
            "\n",
            "   Suggested Therapy_Support Groups  Self-care Advice_Exercise  \\\n",
            "0                             False                       True   \n",
            "1                             False                      False   \n",
            "2                             False                      False   \n",
            "3                              True                      False   \n",
            "4                             False                      False   \n",
            "\n",
            "   Self-care Advice_Journaling  Self-care Advice_Meditation  \\\n",
            "0                        False                        False   \n",
            "1                        False                        False   \n",
            "2                        False                        False   \n",
            "3                         True                        False   \n",
            "4                        False                        False   \n",
            "\n",
            "   Self-care Advice_Take Breaks  Self-care Advice_Talk to a Friend  \\\n",
            "0                         False                              False   \n",
            "1                          True                              False   \n",
            "2                          True                              False   \n",
            "3                         False                              False   \n",
            "4                          True                              False   \n",
            "\n",
            "   Urgency Level_High  Urgency Level_Low  Urgency Level_Moderate  \n",
            "0               False               True                   False  \n",
            "1               False              False                    True  \n",
            "2                True              False                   False  \n",
            "3               False              False                    True  \n",
            "4               False               True                   False  \n",
            "\n",
            "[5 rows x 34 columns]\n"
          ]
        }
      ]
    },
    {
      "cell_type": "code",
      "source": [
        "from sklearn.model_selection import train_test_split\n",
        "\n",
        "# Split the dataset into training and testing sets\n",
        "X_train, X_test, y_train, y_test = train_test_split(X_encoded, y, test_size=0.2, random_state=42)\n",
        "\n",
        "# View the shapes of the training and test sets\n",
        "print(\"Training set shape:\", X_train.shape, y_train.shape)\n",
        "print(\"Test set shape:\", X_test.shape, y_test.shape)\n"
      ],
      "metadata": {
        "colab": {
          "base_uri": "https://localhost:8080/"
        },
        "id": "5Y-Boowk9cWs",
        "outputId": "a017e5f0-2302-4ddb-95da-c45dacdd5042"
      },
      "execution_count": null,
      "outputs": [
        {
          "output_type": "stream",
          "name": "stdout",
          "text": [
            "Training set shape: (800, 34) (800,)\n",
            "Test set shape: (200, 34) (200,)\n"
          ]
        }
      ]
    },
    {
      "cell_type": "code",
      "source": [
        "from sklearn.linear_model import LogisticRegression\n",
        "\n",
        "# Initialize the Logistic Regression model\n",
        "model = LogisticRegression(max_iter=1000)\n",
        "\n",
        "# Train the model on the training data\n",
        "model.fit(X_train, y_train)\n",
        "\n",
        "# Confirm that the model has been trained\n",
        "print(\"Model trained successfully!\")\n"
      ],
      "metadata": {
        "colab": {
          "base_uri": "https://localhost:8080/"
        },
        "id": "mjMoMI099oxb",
        "outputId": "ea412d37-77f5-4450-ecc5-18f2e32ea121"
      },
      "execution_count": null,
      "outputs": [
        {
          "output_type": "stream",
          "name": "stdout",
          "text": [
            "Model trained successfully!\n"
          ]
        }
      ]
    },
    {
      "cell_type": "code",
      "source": [
        "# Make predictions on the test data\n",
        "y_pred = model.predict(X_test)\n",
        "\n",
        "# Display the first few predictions\n",
        "print(\"Predictions on the test data:\", y_pred[:10])\n"
      ],
      "metadata": {
        "colab": {
          "base_uri": "https://localhost:8080/"
        },
        "id": "-TyFSCWF9vjm",
        "outputId": "09f19a7c-6cd7-4cea-849a-1a311898aed8"
      },
      "execution_count": null,
      "outputs": [
        {
          "output_type": "stream",
          "name": "stdout",
          "text": [
            "Predictions on the test data: ['Depression' 'Stress' 'Panic Disorder' 'Depression' 'Burnout'\n",
            " 'Depression' 'Anxiety' 'Depression' 'Anxiety' 'Stress']\n"
          ]
        }
      ]
    },
    {
      "cell_type": "code",
      "source": [
        "print(\"Predictions made successfully!\")"
      ],
      "metadata": {
        "colab": {
          "base_uri": "https://localhost:8080/"
        },
        "id": "ZW_IacLt95Xe",
        "outputId": "1e40a47f-7c6e-46a8-f43f-d3a0b96f92de"
      },
      "execution_count": null,
      "outputs": [
        {
          "output_type": "stream",
          "name": "stdout",
          "text": [
            "Predictions made successfully!\n"
          ]
        }
      ]
    },
    {
      "cell_type": "code",
      "source": [
        "from sklearn.metrics import accuracy_score, classification_report\n",
        "\n",
        "# Calculate accuracy\n",
        "accuracy = accuracy_score(y_test, y_pred)\n",
        "print(\"Accuracy Score:\", accuracy)\n",
        "\n",
        "# Generate a classification report\n",
        "report = classification_report(y_test, y_pred)\n",
        "print(\"Classification Report:\\n\", report)\n"
      ],
      "metadata": {
        "colab": {
          "base_uri": "https://localhost:8080/"
        },
        "id": "anf6aXAw9-pe",
        "outputId": "e034512d-09ab-4b36-b049-b0dbf67a1f6f"
      },
      "execution_count": null,
      "outputs": [
        {
          "output_type": "stream",
          "name": "stdout",
          "text": [
            "Accuracy Score: 0.195\n",
            "Classification Report:\n",
            "                 precision    recall  f1-score   support\n",
            "\n",
            "       Anxiety       0.26      0.43      0.32        44\n",
            "       Burnout       0.06      0.05      0.06        39\n",
            "    Depression       0.18      0.28      0.22        32\n",
            "Panic Disorder       0.16      0.09      0.11        35\n",
            "        Stress       0.23      0.12      0.16        50\n",
            "\n",
            "      accuracy                           0.20       200\n",
            "     macro avg       0.18      0.19      0.17       200\n",
            "  weighted avg       0.18      0.20      0.18       200\n",
            "\n"
          ]
        }
      ]
    },
    {
      "cell_type": "code",
      "source": [
        "# Get the confusion matrix\n",
        "conf_matrix = confusion_matrix(y_test, y_pred)\n",
        "\n",
        "# Get the unique classes from the target variable\n",
        "classes = np.unique(y)\n",
        "\n",
        "# Plot the confusion matrix\n",
        "plt.figure(figsize=(10, 7))\n",
        "sns.heatmap(conf_matrix, annot=True, fmt='d', cmap='Blues',\n",
        "            xticklabels=classes,\n",
        "            yticklabels=classes)\n",
        "plt.ylabel('Actual')\n",
        "plt.xlabel('Predicted')\n",
        "plt.title('Confusion Matrix')\n",
        "plt.show()\n"
      ],
      "metadata": {
        "colab": {
          "base_uri": "https://localhost:8080/",
          "height": 641
        },
        "id": "IVhfFxvuBKPX",
        "outputId": "f542d4c0-3888-4541-9ee2-efad1ebe29d5"
      },
      "execution_count": null,
      "outputs": [
        {
          "output_type": "display_data",
          "data": {
            "text/plain": [
              "<Figure size 1000x700 with 2 Axes>"
            ],
            "image/png": "[encoded data removed]"
          },
          "metadata": {}
        }
      ]
    },
    {
      "cell_type": "code",
      "source": [
        "#Code to Analyze the Confusion Matrix\n",
        "import numpy as np\n",
        "\n",
        "# Calculate precision and recall for each class\n",
        "precision = {}\n",
        "recall = {}\n",
        "for i, class_name in enumerate(classes):\n",
        "    tp = conf_matrix[i, i]  # True Positive\n",
        "    fp = np.sum(conf_matrix[:, i]) - tp  # False Positive\n",
        "    fn = np.sum(conf_matrix[i, :]) - tp  # False Negative\n",
        "\n",
        "    precision[class_name] = tp / (tp + fp) if (tp + fp) > 0 else 0\n",
        "    recall[class_name] = tp / (tp + fn) if (tp + fn) > 0 else 0\n",
        "\n",
        "# Print results\n",
        "for class_name in classes:\n",
        "    print(f\"{class_name}: Precision = {precision[class_name]:.2f}, Recall = {recall[class_name]:.2f}\")\n"
      ],
      "metadata": {
        "colab": {
          "base_uri": "https://localhost:8080/"
        },
        "id": "VvrZ3AF1CWHE",
        "outputId": "54c8fe62-d7f3-4f0d-9cdf-4a8a097fb074"
      },
      "execution_count": null,
      "outputs": [
        {
          "output_type": "stream",
          "name": "stdout",
          "text": [
            "Anxiety: Precision = 0.26, Recall = 0.43\n",
            "Burnout: Precision = 0.06, Recall = 0.05\n",
            "Depression: Precision = 0.18, Recall = 0.28\n",
            "Panic Disorder: Precision = 0.16, Recall = 0.09\n",
            "Stress: Precision = 0.23, Recall = 0.12\n"
          ]
        }
      ]
    },
    {
      "cell_type": "code",
      "source": [
        "# Get the feature names after one-hot encoding\n",
        "feature_names = X.columns\n",
        "\n",
        "# Check lengths\n",
        "print(\"Number of features:\", len(feature_names))\n",
        "print(\"Number of coefficients per class:\", coefficients.shape[1])\n"
      ],
      "metadata": {
        "colab": {
          "base_uri": "https://localhost:8080/"
        },
        "id": "1C2UaH-GEqBS",
        "outputId": "e0789d39-2337-4164-975a-bf9c009ed0a7"
      },
      "execution_count": null,
      "outputs": [
        {
          "output_type": "stream",
          "name": "stdout",
          "text": [
            "Number of features: 13\n",
            "Number of coefficients per class: 34\n"
          ]
        }
      ]
    },
    {
      "cell_type": "code",
      "source": [
        "print(X.columns.tolist())\n"
      ],
      "metadata": {
        "colab": {
          "base_uri": "https://localhost:8080/"
        },
        "id": "N0G0tfKsQ4xf",
        "outputId": "1031e327-25af-4224-d595-0612e2ff8bb9"
      },
      "execution_count": null,
      "outputs": [
        {
          "output_type": "stream",
          "name": "stdout",
          "text": [
            "['User ID', 'Age', 'Gender', 'Symptoms', 'Duration (weeks)', 'Previous Diagnosis', 'Therapy History', 'Medication', 'Suggested Therapy', 'Self-care Advice', 'Urgency Level', 'Mood', 'Stress Level']\n"
          ]
        }
      ]
    },
    {
      "cell_type": "code",
      "source": [
        "def preprocess_input(input_data):\n",
        "    # Convert to DataFrame\n",
        "    input_df = pd.DataFrame([input_data])\n",
        "\n",
        "    # One-hot encode categorical features\n",
        "    categorical_columns = ['Gender', 'Symptoms', 'Previous Diagnosis',\n",
        "                           'Therapy History', 'Medication',\n",
        "                           'Suggested Therapy', 'Self-care Advice',\n",
        "                           'Urgency Level']\n",
        "\n",
        "    # One-hot encoding\n",
        "    input_df = pd.get_dummies(input_df, columns=categorical_columns, drop_first=True)\n",
        "\n",
        "    # Reindex to match training data columns, filling missing ones with 0\n",
        "    input_df = input_df.reindex(columns=X.columns, fill_value=0)\n",
        "\n",
        "    # Scale numerical features\n",
        "    numerical_columns = ['Age', 'Duration (weeks)', 'Mood', 'Stress Level']\n",
        "    input_df[numerical_columns] = scaler.transform(input_df[numerical_columns])\n",
        "\n",
        "    return input_df\n"
      ],
      "metadata": {
        "id": "xR0_xeDjRR7n"
      },
      "execution_count": null,
      "outputs": []
    },
    {
      "cell_type": "code",
      "source": [
        "import pandas as pd\n",
        "\n",
        "# Sample input\n",
        "sample_input = {\n",
        "    'User ID': 1,  # This can be arbitrary for prediction\n",
        "    'Age': 25,\n",
        "    'Gender': 'Female',  # Ensure this matches your training data\n",
        "    'Symptoms': 'Anxiety',  # Ensure this matches your training data\n",
        "    'Duration (weeks)': 4,\n",
        "    'Previous Diagnosis': 'None',  # Ensure this matches your training data\n",
        "    'Therapy History': 'No',  # Ensure this matches your training data\n",
        "    'Medication': 'No',  # Ensure this matches your training data\n",
        "    'Suggested Therapy': 'Cognitive Behavioral Therapy',  # Ensure this matches your training data\n",
        "    'Self-care Advice': 'Practice mindfulness',  # Ensure this matches your training data\n",
        "    'Urgency Level': 'Medium',  # Ensure this matches your training data\n",
        "    'Mood': 7,\n",
        "    'Stress Level': 5\n",
        "}\n",
        "\n",
        "# Preprocess the input\n",
        "def preprocess_input(input_data):\n",
        "    # Convert to DataFrame\n",
        "    input_df = pd.DataFrame([input_data])\n",
        "\n",
        "    # One-hot encode categorical features\n",
        "    input_df = pd.get_dummies(input_df, drop_first=True)\n",
        "\n",
        "    # Ensure the same columns as the model was trained with\n",
        "    missing_cols = set(X_train.columns) - set(input_df.columns)\n",
        "    for c in missing_cols:\n",
        "        input_df[c] = 0  # Add missing columns with default value 0\n",
        "\n",
        "    # Reorder columns to match the model's input\n",
        "    input_df = input_df[X_train.columns]\n",
        "\n",
        "    return input_df\n",
        "\n",
        "# Preprocess the input\n",
        "processed_input = preprocess_input(sample_input)\n",
        "\n",
        "# Make prediction\n",
        "prediction = model.predict(processed_input)\n",
        "print(\"Prediction:\", prediction)\n"
      ],
      "metadata": {
        "colab": {
          "base_uri": "https://localhost:8080/"
        },
        "id": "avmXFUMpRlYe",
        "outputId": "2d48f51e-5344-491e-ef99-1dc6e661b14f"
      },
      "execution_count": null,
      "outputs": [
        {
          "output_type": "stream",
          "name": "stdout",
          "text": [
            "Prediction: ['Stress']\n"
          ]
        }
      ]
    },
    {
      "cell_type": "code",
      "source": [
        "def get_user_input():\n",
        "    # Simulate user input collection\n",
        "    sample_input = {\n",
        "        'User ID': 1,\n",
        "        'Age': int(input(\"Enter age: \")),\n",
        "        'Gender': input(\"Enter gender: \"),\n",
        "        'Symptoms': input(\"Enter symptoms: \"),\n",
        "        'Duration (weeks)': int(input(\"Enter duration in weeks: \")),\n",
        "        'Previous Diagnosis': input(\"Enter previous diagnosis: \"),\n",
        "        'Therapy History': input(\"Enter therapy history: \"),\n",
        "        'Medication': input(\"Enter if on medication: \"),\n",
        "        'Suggested Therapy': input(\"Enter suggested therapy: \"),\n",
        "        'Self-care Advice': input(\"Enter self-care advice: \"),\n",
        "        'Urgency Level': input(\"Enter urgency level: \"),\n",
        "        'Mood': int(input(\"Enter mood (1-10): \")),\n",
        "        'Stress Level': int(input(\"Enter stress level (1-10): \"))\n",
        "    }\n",
        "    return sample_input\n",
        "\n",
        "# Then you can use the input to predict\n",
        "user_input = get_user_input()\n",
        "processed_input = preprocess_input(user_input)  # Ensure you have the preprocessing function defined\n",
        "prediction = model.predict(processed_input)\n",
        "print(\"Prediction:\", prediction)\n"
      ],
      "metadata": {
        "id": "otnRmmKMYMmq"
      },
      "execution_count": null,
      "outputs": []
    }
  ]
}